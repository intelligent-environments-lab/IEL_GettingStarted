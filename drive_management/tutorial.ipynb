{
 "metadata": {
  "language_info": {
   "codemirror_mode": {
    "name": "ipython",
    "version": 3
   },
   "file_extension": ".py",
   "mimetype": "text/x-python",
   "name": "python",
   "nbconvert_exporter": "python",
   "pygments_lexer": "ipython3",
   "version": "3.7.6-final"
  },
  "orig_nbformat": 2,
  "kernelspec": {
   "name": "python3",
   "display_name": "Python 3"
  }
 },
 "nbformat": 4,
 "nbformat_minor": 2,
 "cells": [
  {
   "cell_type": "markdown",
   "metadata": {},
   "source": [
    "# Import Libraries\n",
    "***"
   ]
  },
  {
   "cell_type": "code",
   "execution_count": 1,
   "metadata": {},
   "outputs": [],
   "source": [
    "from drive_management import drive_management as dm"
   ]
  },
  {
   "cell_type": "markdown",
   "metadata": {},
   "source": [
    "# Authenticate Drive\n",
    "***"
   ]
  },
  {
   "cell_type": "code",
   "execution_count": 2,
   "metadata": {
    "tags": []
   },
   "outputs": [],
   "source": [
    "credentials_filename = 'drive_management/credentials.txt'\n",
    "drive = dm.authenticate_drive(file_name=credentials_filename)"
   ]
  },
  {
   "cell_type": "markdown",
   "metadata": {},
   "source": [
    "# Get File Metadata\n",
    "***"
   ]
  },
  {
   "cell_type": "markdown",
   "metadata": {},
   "source": [
    "Returns metadata of files in root folder at default:"
   ]
  },
  {
   "cell_type": "code",
   "execution_count": 3,
   "metadata": {
    "tags": []
   },
   "outputs": [
    {
     "output_type": "stream",
     "name": "stdout",
     "text": "Metadata:\n"
    },
    {
     "output_type": "display_data",
     "data": {
      "text/plain": "[{'title': 'readings',\n  'modifiedDate': '2020-07-18T07:31:47.301Z',\n  'fileSize': '-'}]"
     },
     "metadata": {}
    }
   ],
   "source": [
    "metadata = dm.get_file_metadata(drive=drive)\n",
    "print('Metadata:')\n",
    "display(metadata)"
   ]
  },
  {
   "cell_type": "markdown",
   "metadata": {},
   "source": [
    "Modify query value in parameter dictionary to get metadata of files in other folders:"
   ]
  },
  {
   "cell_type": "code",
   "execution_count": 4,
   "metadata": {
    "tags": []
   },
   "outputs": [
    {
     "output_type": "stream",
     "name": "stdout",
     "text": "Metadata:\n"
    },
    {
     "output_type": "display_data",
     "data": {
      "text/plain": "[{'title': '10Hz_RTP.png',\n  'modifiedDate': '2020-05-02T13:14:21.000Z',\n  'fileSize': '6708'},\n {'title': '20Hz_COLD.png',\n  'modifiedDate': '2020-05-02T13:14:20.000Z',\n  'fileSize': '6315'},\n {'title': '50Hz_COLD.png',\n  'modifiedDate': '2020-05-02T13:14:18.000Z',\n  'fileSize': '7400'},\n {'title': '50Hz_RTP.png',\n  'modifiedDate': '2020-05-02T13:14:17.000Z',\n  'fileSize': '6270'},\n {'title': '20Hz_RTP.png',\n  'modifiedDate': '2020-05-02T13:14:15.000Z',\n  'fileSize': '6716'},\n {'title': '10Hz_COLD.png',\n  'modifiedDate': '2020-05-02T13:14:14.000Z',\n  'fileSize': '6382'},\n {'title': '40Hz_COLD.png',\n  'modifiedDate': '2020-05-02T13:14:12.000Z',\n  'fileSize': '6100'},\n {'title': '1Hz_COLD.png',\n  'modifiedDate': '2020-05-02T13:14:11.000Z',\n  'fileSize': '7407'},\n {'title': '40Hz_RTP.png',\n  'modifiedDate': '2020-05-02T13:14:10.000Z',\n  'fileSize': '6150'},\n {'title': '1Hz_RTP.png',\n  'modifiedDate': '2020-05-02T13:14:08.000Z',\n  'fileSize': '6147'}]"
     },
     "metadata": {}
    }
   ],
   "source": [
    "\n",
    "metadata = dm.get_file_metadata(file_path='readings/images',drive=drive)\n",
    "print('Metadata:')\n",
    "display(metadata)"
   ]
  },
  {
   "cell_type": "markdown",
   "metadata": {},
   "source": [
    "# Download\n",
    "***"
   ]
  },
  {
   "cell_type": "markdown",
   "metadata": {},
   "source": [
    "To download, provide file path of file in Drive as well as the filename and local directory to use in saving file to local drive:"
   ]
  },
  {
   "cell_type": "code",
   "execution_count": 5,
   "metadata": {
    "tags": []
   },
   "outputs": [
    {
     "output_type": "stream",
     "name": "stdout",
     "text": "Download successful: True\n"
    }
   ],
   "source": [
    "success = dm.download(\n",
    "    file_path='readings/images/10Hz_RTP.png',\n",
    "    download_filename='10Hz_RTP.png',\n",
    "    download_directory='downloads/',\n",
    "    drive=drive\n",
    ")\n",
    "print(f'Download successful: {success}')"
   ]
  }
 ]
}