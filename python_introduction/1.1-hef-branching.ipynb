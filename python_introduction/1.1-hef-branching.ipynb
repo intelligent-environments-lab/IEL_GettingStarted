{
 "cells": [
  {
   "cell_type": "markdown",
   "metadata": {},
   "source": [
    "# Branching Programs\n",
    "We could write things in **straight-line programs**, but that is boring and for lesser languages. **Branching** gives us more freedom to move around the script we are writing."
   ]
  },
  {
   "cell_type": "markdown",
   "metadata": {},
   "source": [
    "## Conditionals\n",
    "Conditional statements have two, typically three, parts:\n",
    "1. a test that evaluates to `True` or `False`\n",
    "2. a block of code that is executed if the statement evaluates to `True`\n",
    "3. an _optional_ block of code that executes if the statement evaluates to `False`\n",
    "\n",
    "Let's see some examples:"
   ]
  },
  {
   "cell_type": "code",
   "execution_count": 1,
   "metadata": {},
   "outputs": [],
   "source": [
    "# change value of x to any integer\n",
    "x = 2"
   ]
  },
  {
   "cell_type": "code",
   "execution_count": 2,
   "metadata": {},
   "outputs": [
    {
     "name": "stdout",
     "output_type": "stream",
     "text": [
      "2 is even\n"
     ]
    }
   ],
   "source": [
    "# run this cell after changing the value of x above\n",
    "if x%2 == 0:\n",
    "    print(x, \"is even\")\n",
    "else:\n",
    "    print(x, \"is odd\")"
   ]
  },
  {
   "cell_type": "markdown",
   "metadata": {},
   "source": [
    "### A Note on Indentation\n",
    "> In Python, indentation is semantically meaningful. Instead of delineating blocks of code with some sort of braces, python uses indentation which is nice because indentations ensure that the visual structure of the code is an accurate representation of the semantic structure. This _does_ create issues because multiple indentations can lead to a lines starting far from the left indent. Lines can be broken up by the use of a backslash."
   ]
  },
  {
   "cell_type": "markdown",
   "metadata": {},
   "source": [
    "### Nested Conditionals\n",
    "Sometimes we need another conditional inside of one we already defined which means we **nest** one conditional inside of the other:"
   ]
  },
  {
   "cell_type": "code",
   "execution_count": 5,
   "metadata": {},
   "outputs": [],
   "source": [
    "# change value of y to any integer\n",
    "y = 20"
   ]
  },
  {
   "cell_type": "code",
   "execution_count": 6,
   "metadata": {},
   "outputs": [
    {
     "name": "stdout",
     "output_type": "stream",
     "text": [
      "20 is even\n",
      "...and at least two digits long\n"
     ]
    }
   ],
   "source": [
    "# run this cell after changing the value of y above\n",
    "if y%2 == 0:\n",
    "    print(y, \"is even\")\n",
    "    if y > 9:\n",
    "        print(\"...and at least two digits long\")\n",
    "else:\n",
    "    print(y, \"is odd\")"
   ]
  },
  {
   "cell_type": "markdown",
   "metadata": {},
   "source": [
    "### Compound Expressions\n",
    "Rather than nest our conditionals, we can use compound expressions and connect them with `or` or `and`"
   ]
  },
  {
   "cell_type": "code",
   "execution_count": 7,
   "metadata": {},
   "outputs": [],
   "source": [
    "# change value of z to any integer\n",
    "z = 3"
   ]
  },
  {
   "cell_type": "code",
   "execution_count": 9,
   "metadata": {},
   "outputs": [
    {
     "name": "stdout",
     "output_type": "stream",
     "text": [
      "3\n"
     ]
    }
   ],
   "source": [
    "if z%2 == 0 and z > 9:\n",
    "    print(z, \"is even and at least two digits long\")\n",
    "else:\n",
    "    print(z)"
   ]
  }
 ],
 "metadata": {
  "kernelspec": {
   "display_name": "Python 3",
   "language": "python",
   "name": "python3"
  },
  "language_info": {
   "codemirror_mode": {
    "name": "ipython",
    "version": 3
   },
   "file_extension": ".py",
   "mimetype": "text/x-python",
   "name": "python",
   "nbconvert_exporter": "python",
   "pygments_lexer": "ipython3",
   "version": "3.7.0"
  },
  "toc": {
   "base_numbering": 1,
   "nav_menu": {},
   "number_sections": false,
   "sideBar": false,
   "skip_h1_title": false,
   "title_cell": "Table of Contents",
   "title_sidebar": "Contents",
   "toc_cell": false,
   "toc_position": {},
   "toc_section_display": false,
   "toc_window_display": false
  }
 },
 "nbformat": 4,
 "nbformat_minor": 4
}
