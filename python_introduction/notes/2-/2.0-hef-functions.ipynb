{
 "cells": [
  {
   "cell_type": "markdown",
   "metadata": {},
   "source": [
    "# Functions\n",
    "Many times we want to generalize our code to fit multiple purposes. While it is easy to simply copy, paste, and alter the code you originally wrote, your program might get unecessarily lengthy, complex, and even _buggy_. Thus we can use functions to more appropriately re-use code."
   ]
  },
  {
   "cell_type": "markdown",
   "metadata": {},
   "source": [
    "## User-Defined Functions\n",
    "Python has built-in functions like `max` and `abs`, but also allows for you, the user, to define your own function - how exciting! Functions take on the form of:\n",
    "```python\n",
    "def function_name(parameter1, parameter2):\n",
    "    # instructions/body of function\n",
    "```"
   ]
  },
  {
   "cell_type": "markdown",
   "metadata": {},
   "source": [
    "The word `def` is a reserved word in Python that tells the interpretor that a function is about to be defined. The name of the function follows after this and in parantheses, are the parameters of the function. Let's define a simple function:"
   ]
  },
  {
   "cell_type": "code",
   "execution_count": 1,
   "metadata": {},
   "outputs": [],
   "source": [
    "def odd_or_even(x):\n",
    "    \"\"\"returns whether or not the given value is odd or even\"\"\"\n",
    "    if x % 2 == 0:\n",
    "        return \"even\"\n",
    "    else:\n",
    "        return \"odd\""
   ]
  },
  {
   "cell_type": "markdown",
   "metadata": {},
   "source": [
    "We call the function by simply using the name with whatever parameters are required:"
   ]
  },
  {
   "cell_type": "code",
   "execution_count": 2,
   "metadata": {},
   "outputs": [
    {
     "data": {
      "text/plain": [
       "'odd'"
      ]
     },
     "execution_count": 2,
     "metadata": {},
     "output_type": "execute_result"
    }
   ],
   "source": [
    "odd_or_even(3)"
   ]
  },
  {
   "cell_type": "code",
   "execution_count": 3,
   "metadata": {},
   "outputs": [
    {
     "data": {
      "text/plain": [
       "'even'"
      ]
     },
     "execution_count": 3,
     "metadata": {},
     "output_type": "execute_result"
    }
   ],
   "source": [
    "odd_or_even(4)"
   ]
  },
  {
   "cell_type": "markdown",
   "metadata": {},
   "source": [
    "When we call the function, the _formal_ parameters (those defined in the function) are bound to the _actual_ parameters (typically referred to as **arguments**) i.e. in our call `odd_or_even(4)`, `x` is bound to `4`. \n",
    "\n",
    "The body of the function can be any piece of Python code, however, there is a special statement, `return`, that can only be used within the body of a Python function. The `return` statement terminates the function call and _returns_ the variable(s) given after the statement. Functions do _not_ have to have return statements in them and in this case are referred to as returning **void** i.e. nothing. "
   ]
  },
  {
   "cell_type": "code",
   "execution_count": null,
   "metadata": {},
   "outputs": [],
   "source": []
  }
 ],
 "metadata": {
  "kernelspec": {
   "display_name": "Python 3",
   "language": "python",
   "name": "python3"
  },
  "language_info": {
   "codemirror_mode": {
    "name": "ipython",
    "version": 3
   },
   "file_extension": ".py",
   "mimetype": "text/x-python",
   "name": "python",
   "nbconvert_exporter": "python",
   "pygments_lexer": "ipython3",
   "version": "3.7.0"
  },
  "toc": {
   "base_numbering": 1,
   "nav_menu": {},
   "number_sections": false,
   "sideBar": false,
   "skip_h1_title": false,
   "title_cell": "Table of Contents",
   "title_sidebar": "Contents",
   "toc_cell": false,
   "toc_position": {},
   "toc_section_display": false,
   "toc_window_display": false
  }
 },
 "nbformat": 4,
 "nbformat_minor": 4
}
