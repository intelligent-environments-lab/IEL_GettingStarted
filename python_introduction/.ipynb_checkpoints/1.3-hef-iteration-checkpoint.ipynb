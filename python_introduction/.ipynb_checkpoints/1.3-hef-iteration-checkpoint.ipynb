{
 "cells": [
  {
   "cell_type": "markdown",
   "metadata": {},
   "source": [
    "# Iteration\n",
    "The moment you have all been waiting for: iteration. \n",
    "\n",
    "Iteration, or looping, is when a program executes the same block of code many times until a certain condition is met. "
   ]
  },
  {
   "cell_type": "markdown",
   "metadata": {},
   "source": [
    "## While Loops\n",
    "`while` loops look similar to `if` statements but continue to run until the condition is no longer valid. Consider the following and feel free to run the cell."
   ]
  },
  {
   "cell_type": "code",
   "execution_count": 5,
   "metadata": {},
   "outputs": [
    {
     "name": "stdout",
     "output_type": "stream",
     "text": [
      "ans =  0\n",
      "ans =  3\n",
      "ans =  6\n",
      "Final value = 9\n"
     ]
    }
   ],
   "source": [
    "x = 3\n",
    "ans = 0\n",
    "iterations_left = x\n",
    "while iterations_left != 0:\n",
    "    print(\"ans = \", ans)\n",
    "    ans = ans + x\n",
    "    iterations_left = iterations_left - 1\n",
    "    \n",
    "print(\"final value =\", ans)"
   ]
  },
  {
   "cell_type": "markdown",
   "metadata": {},
   "source": [
    "You can see that on each iteration of the `while` loop, we increased the values of `ans` by `x` (or 3 in this case)."
   ]
  },
  {
   "cell_type": "markdown",
   "metadata": {},
   "source": [
    "### Break\n",
    "Sometimes, you might want to end your loop early if a certain condition is met. You can do this with the `break` command:"
   ]
  },
  {
   "cell_type": "code",
   "execution_count": 6,
   "metadata": {},
   "outputs": [
    {
     "name": "stdout",
     "output_type": "stream",
     "text": [
      "132 is divisible by 11 and 12\n"
     ]
    }
   ],
   "source": [
    "x = 1\n",
    "while True:\n",
    "    if x % 11 == 0 and x % 12 == 0:\n",
    "        break\n",
    "    x = x + 1\n",
    "    \n",
    "print(x, \"is divisible by 11 and 12\")"
   ]
  },
  {
   "cell_type": "markdown",
   "metadata": {},
   "source": [
    "Two important things to consider here:\n",
    "1. The statement `while True` means that the while will run _forever_ since `True` can never be anything else\n",
    "2. The `break` within the `if` statement means we will exit the loop that our `break` is within. If we had a the code above nested in another loop, we would only exit the inner loop, but would continue with whatever the outer loop was performing. "
   ]
  },
  {
   "cell_type": "markdown",
   "metadata": {},
   "source": [
    "## For Loops\n",
    "`for` loops have a specific structure that looks like this:\n",
    "```python\n",
    "for variable in sequence:\n",
    "    # do things\n",
    "```\n",
    "\n",
    "The variable you define after the `for` statement is bound to the first value of the sequence. Then the code within the `for` loop is run. On the next iteration, the variable is now bound to the _second_ value in the sequence and then the code within the loop is run. This process continues until you no longer have any values in your sequence to use. "
   ]
  },
  {
   "cell_type": "markdown",
   "metadata": {},
   "source": [
    "### Range\n",
    "Before we see a `for` loop, we should talk about a comman way to create a sequence of numbers: `range`. The `range` function takes three integer arguments in order: \n",
    "1. start: the starting value (inclusive)\n",
    "2. stop: the ending value (exclusive)\n",
    "3. step: the value to increase or decrease (if negative) by on each iteration\n",
    "\n",
    "If the first number is omitted, the start defaults to 0. If the last number is omitted, the step defaults to 1. That means `range(0,3,1)` is the same as `range(0,3)`, `range(3,1)`, and simply `range(3)`. \n",
    "\n",
    "Now we can see some examples with `for` and `range`:"
   ]
  },
  {
   "cell_type": "code",
   "execution_count": 9,
   "metadata": {},
   "outputs": [
    {
     "name": "stdout",
     "output_type": "stream",
     "text": [
      "0\n",
      "1\n",
      "2\n",
      "3\n"
     ]
    }
   ],
   "source": [
    "x = 4\n",
    "for i in range(0,x):\n",
    "    print(i)"
   ]
  },
  {
   "cell_type": "code",
   "execution_count": 10,
   "metadata": {},
   "outputs": [
    {
     "name": "stdout",
     "output_type": "stream",
     "text": [
      "0\n",
      "2\n",
      "4\n",
      "6\n",
      "8\n",
      "10\n",
      "12\n",
      "14\n"
     ]
    }
   ],
   "source": [
    "# even numbers only\n",
    "for j in range(0,16,2):\n",
    "    print(j)"
   ]
  },
  {
   "cell_type": "code",
   "execution_count": 11,
   "metadata": {},
   "outputs": [
    {
     "name": "stdout",
     "output_type": "stream",
     "text": [
      "1\n",
      "3\n",
      "5\n",
      "7\n",
      "9\n",
      "11\n",
      "13\n",
      "15\n"
     ]
    }
   ],
   "source": [
    "# don't forget the odds\n",
    "for k in range(1,16,2):\n",
    "    print(k)"
   ]
  },
  {
   "cell_type": "markdown",
   "metadata": {},
   "source": [
    "We don't have to use `range` every time that we want to loop through a sequence. Sometimes we have a sequence that isn't monotonically increasing/decreasing that we want to loop through:"
   ]
  },
  {
   "cell_type": "code",
   "execution_count": 12,
   "metadata": {},
   "outputs": [
    {
     "name": "stdout",
     "output_type": "stream",
     "text": [
      "Zoltan advises Sep\n",
      "Zoltan advises Hagen\n",
      "Zoltan advises Kingsley\n",
      "Zoltan advises Aysha\n"
     ]
    }
   ],
   "source": [
    "# strings\n",
    "grads = [\"Sep\",\"Hagen\",\"Kingsley\",\"Aysha\"]\n",
    "for grad in grads:\n",
    "    print(\"Zoltan advises\", grad)"
   ]
  },
  {
   "cell_type": "markdown",
   "metadata": {},
   "source": [
    "The above loop might beg the question: can we simply loop through ~the characters~ each `str` in a larger `str`?"
   ]
  },
  {
   "cell_type": "code",
   "execution_count": 14,
   "metadata": {},
   "outputs": [
    {
     "name": "stdout",
     "output_type": "stream",
     "text": [
      "Give me a Z\n",
      "Z\n",
      "Give me a O\n",
      "o\n",
      "Give me a L\n",
      "l\n",
      "Give me a T\n",
      "t\n",
      "Give me a A\n",
      "a\n",
      "Give me a N\n",
      "n\n",
      "What does that spell: ZOLTAN\n"
     ]
    }
   ],
   "source": [
    "name = \"Zoltan\"\n",
    "for letter in name:\n",
    "    print(\"Give me a\", letter.upper())\n",
    "    print(letter)\n",
    "\n",
    "print(\"What does that spell:\", name.upper())"
   ]
  },
  {
   "cell_type": "markdown",
   "metadata": {},
   "source": [
    "Yes, you can loop through `str`."
   ]
  },
  {
   "cell_type": "markdown",
   "metadata": {},
   "source": [
    "### A note on loops\n",
    "> There are more advanced techniques that we can do with loops and other keywords like `continue`, but we will get to these in later sections. These lessons are meant to be short and whet your appetite for more :) "
   ]
  },
  {
   "cell_type": "code",
   "execution_count": null,
   "metadata": {},
   "outputs": [],
   "source": []
  }
 ],
 "metadata": {
  "kernelspec": {
   "display_name": "Python 3",
   "language": "python",
   "name": "python3"
  },
  "language_info": {
   "codemirror_mode": {
    "name": "ipython",
    "version": 3
   },
   "file_extension": ".py",
   "mimetype": "text/x-python",
   "name": "python",
   "nbconvert_exporter": "python",
   "pygments_lexer": "ipython3",
   "version": "3.7.0"
  },
  "toc": {
   "base_numbering": 1,
   "nav_menu": {},
   "number_sections": false,
   "sideBar": false,
   "skip_h1_title": false,
   "title_cell": "Table of Contents",
   "title_sidebar": "Contents",
   "toc_cell": false,
   "toc_position": {},
   "toc_section_display": false,
   "toc_window_display": false
  }
 },
 "nbformat": 4,
 "nbformat_minor": 4
}
