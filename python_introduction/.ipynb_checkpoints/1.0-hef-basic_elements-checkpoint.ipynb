{
 "cells": [
  {
   "cell_type": "markdown",
   "metadata": {},
   "source": [
    "# Basic Elements\n",
    "Some important definitions:\n",
    "* **Program**: Often times called a **script** is a sequence of definitions and commands\n",
    "* **Command**: Typically referred to as a **statement** instructs the interpreter to do something."
   ]
  },
  {
   "cell_type": "markdown",
   "metadata": {},
   "source": [
    "## Objects, Expressions, and Numerical Types\n",
    "Well, let's define these things:\n",
    "* **Objects**: Core things that Python programs manipulate\n",
    "* **Type**: Defines the \"things\" that the program can do with the object\n",
    "    * **Scalar**: Indivisible objects which include `int`, `float`, `bool`, and `None`\n",
    "    * **Non-Scalar**: Have an internal structure\n",
    "* **Operators**: Used to combine objects to form **expressions**"
   ]
  },
  {
   "cell_type": "markdown",
   "metadata": {},
   "source": [
    "We can determine the type of an object by using the built-in `type` function:"
   ]
  },
  {
   "cell_type": "code",
   "execution_count": 1,
   "metadata": {},
   "outputs": [
    {
     "data": {
      "text/plain": [
       "int"
      ]
     },
     "execution_count": 1,
     "metadata": {},
     "output_type": "execute_result"
    }
   ],
   "source": [
    "type(3)"
   ]
  },
  {
   "cell_type": "code",
   "execution_count": 2,
   "metadata": {},
   "outputs": [
    {
     "data": {
      "text/plain": [
       "float"
      ]
     },
     "execution_count": 2,
     "metadata": {},
     "output_type": "execute_result"
    }
   ],
   "source": [
    "type(3.0)"
   ]
  },
  {
   "cell_type": "code",
   "execution_count": 3,
   "metadata": {},
   "outputs": [
    {
     "data": {
      "text/plain": [
       "bool"
      ]
     },
     "execution_count": 3,
     "metadata": {},
     "output_type": "execute_result"
    }
   ],
   "source": [
    "type(True)"
   ]
  },
  {
   "cell_type": "code",
   "execution_count": 4,
   "metadata": {},
   "outputs": [
    {
     "data": {
      "text/plain": [
       "NoneType"
      ]
     },
     "execution_count": 4,
     "metadata": {},
     "output_type": "execute_result"
    }
   ],
   "source": [
    "type(None)"
   ]
  },
  {
   "cell_type": "markdown",
   "metadata": {},
   "source": [
    "### A Note an Equality and Assignment\n",
    "> The `==` operator is used to test whether two things are equal to one another \\\n",
    "> The `!=` operator is used to test whether two things are **not** equal to one another\\\n",
    "> The `=` is used to assign a **values** to a **variable**"
   ]
  },
  {
   "cell_type": "markdown",
   "metadata": {},
   "source": [
    "### Operators\n",
    "Do not worry about integer arithmetic: operations with only `int` types return `int` _except_ division which is _always_ floating point i.e. `6/4 = 1.5`"
   ]
  },
  {
   "cell_type": "code",
   "execution_count": 5,
   "metadata": {},
   "outputs": [
    {
     "name": "stdout",
     "output_type": "stream",
     "text": [
      "7\n",
      "3\n",
      "10\n",
      "2\n",
      "2.5\n",
      "1\n",
      "25\n"
     ]
    }
   ],
   "source": [
    "i = 5\n",
    "j = 2\n",
    "# adding\n",
    "print(i+j)\n",
    "# subtracting\n",
    "print(i-j)\n",
    "# multiplying\n",
    "print(i*j)\n",
    "# floor division\n",
    "print(i//j)\n",
    "# floating point division\n",
    "print(i/j)\n",
    "# remainder/modulus\n",
    "print(i%j)\n",
    "# exponentiation\n",
    "print(i**j)"
   ]
  },
  {
   "cell_type": "code",
   "execution_count": 6,
   "metadata": {},
   "outputs": [
    {
     "name": "stdout",
     "output_type": "stream",
     "text": [
      "False\n",
      "True\n",
      "True\n",
      "True\n"
     ]
    }
   ],
   "source": [
    "# equality\n",
    "print(i==j)\n",
    "# not equal\n",
    "print(i!=j)\n",
    "# greater\n",
    "print(i > j)\n",
    "# at least\n",
    "print(i >= j)"
   ]
  },
  {
   "cell_type": "markdown",
   "metadata": {},
   "source": [
    "## Variables and Assignment\n",
    "Values can be assigned to variables with `=`."
   ]
  },
  {
   "cell_type": "code",
   "execution_count": 7,
   "metadata": {},
   "outputs": [],
   "source": [
    "pi = 3.141\n",
    "radius = 3\n",
    "name = \"Hagen\""
   ]
  },
  {
   "cell_type": "markdown",
   "metadata": {},
   "source": [
    "### Some Notes on Variable Names\n",
    "Python variable names cannot:\n",
    "* start with a number\n",
    "* include a special character other than `_`\n",
    "* cannot be a Pythonic keyword like `if`, `for`, etc. \n",
    "\n",
    "Python is also case-sensitive i.e. `IEL` is different than `iel`.\n",
    "\n",
    "Be _descriptive_ with your variable names. You will appreciate it, but your predecessors will _really_ appreciate it. Consider the following:"
   ]
  },
  {
   "cell_type": "code",
   "execution_count": 9,
   "metadata": {},
   "outputs": [
    {
     "name": "stdout",
     "output_type": "stream",
     "text": [
      "394.08138201599996\n"
     ]
    }
   ],
   "source": [
    "a = 3.14159265\n",
    "b = 11.2\n",
    "c = a * (b**2)\n",
    "print(c)"
   ]
  },
  {
   "cell_type": "markdown",
   "metadata": {},
   "source": [
    "Seems like nothing is amiss, but are you sure that `b` is the radius? Could be the diameter. You might remember when you write the code, but minds are a fickle thing.\n",
    "\n",
    "If perhaps a variable is storing something that might need to be shortened for ease of use, consider including comments in your code using the `#` at the beginning of a new line or after defining something. We say \"consider\", but we really mean \"USE COMMENTS ALL THE TIME\"."
   ]
  },
  {
   "cell_type": "code",
   "execution_count": 10,
   "metadata": {},
   "outputs": [
    {
     "name": "stdout",
     "output_type": "stream",
     "text": [
      "394.08138201599996\n"
     ]
    }
   ],
   "source": [
    "a = 3.14159265 # reasonably accurate estimate of pi\n",
    "b = 11.2 # radius\n",
    "# calculate the area with pi * r^2\n",
    "c = a * (b**2)\n",
    "# print out the result\n",
    "print(c)"
   ]
  },
  {
   "cell_type": "markdown",
   "metadata": {},
   "source": [
    "## Multiple Assignment\n",
    "You can assign multiple variables different values:"
   ]
  },
  {
   "cell_type": "code",
   "execution_count": 11,
   "metadata": {},
   "outputs": [
    {
     "name": "stdout",
     "output_type": "stream",
     "text": [
      "2 and 3\n"
     ]
    }
   ],
   "source": [
    "x, y = 2, 3\n",
    "print(x, \"and\", y)"
   ]
  },
  {
   "cell_type": "code",
   "execution_count": 14,
   "metadata": {},
   "outputs": [
    {
     "name": "stdout",
     "output_type": "stream",
     "text": [
      "1 and 2 and three\n"
     ]
    }
   ],
   "source": [
    "x, y, z = 1, 2, \"three\"\n",
    "print(x, \"and\" , y, 'and', z)"
   ]
  },
  {
   "cell_type": "markdown",
   "metadata": {},
   "source": [
    "Since expressions on the right are evaluated first, we can now _easily_ swap values instead of having to define dummy variables like we do in those other pesky langauges (looking at you Fortran)."
   ]
  },
  {
   "cell_type": "code",
   "execution_count": 16,
   "metadata": {},
   "outputs": [
    {
     "name": "stdout",
     "output_type": "stream",
     "text": [
      "x = 2 y = 3\n",
      "Now: x = 3 y = 2\n"
     ]
    }
   ],
   "source": [
    "x, y = 2, 3\n",
    "print(\"x =\", x, \"y =\", y)\n",
    "x, y = y, x\n",
    "print(\"Now:\", \"x =\", x, \"y =\", y)"
   ]
  }
 ],
 "metadata": {
  "kernelspec": {
   "display_name": "Python 3",
   "language": "python",
   "name": "python3"
  },
  "language_info": {
   "codemirror_mode": {
    "name": "ipython",
    "version": 3
   },
   "file_extension": ".py",
   "mimetype": "text/x-python",
   "name": "python",
   "nbconvert_exporter": "python",
   "pygments_lexer": "ipython3",
   "version": "3.7.0"
  },
  "toc": {
   "base_numbering": 1,
   "nav_menu": {},
   "number_sections": false,
   "sideBar": false,
   "skip_h1_title": false,
   "title_cell": "Table of Contents",
   "title_sidebar": "Contents",
   "toc_cell": false,
   "toc_position": {},
   "toc_section_display": false,
   "toc_window_display": false
  }
 },
 "nbformat": 4,
 "nbformat_minor": 4
}
