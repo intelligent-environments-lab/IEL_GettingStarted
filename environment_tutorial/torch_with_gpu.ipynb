{
 "cells": [
  {
   "attachments": {},
   "cell_type": "markdown",
   "metadata": {},
   "source": [
    "# Using PyTorch with GPU\n",
    "\n",
    "This tutorial will help you determine what graphics card is on your machine, what specific PyTorch installation to have, and any debugging"
   ]
  },
  {
   "attachments": {},
   "cell_type": "markdown",
   "metadata": {},
   "source": [
    "## Step 1: Finding your GPU\n",
    "\n",
    "Using the Windows Start button's search bar and search \"Device Manager\". In the window, there should be a dropdown menu for \"Display Adapters\". If you do not see this dropdown, you do not have a graphics card installed, and have no access to GPU support."
   ]
  },
  {
   "attachments": {},
   "cell_type": "markdown",
   "metadata": {},
   "source": [
    "## Step 2: Determine what version of CUDA the GPU supports\n",
    "\n",
    "[The CUDA Wikipedia article](https://en.wikipedia.org/wiki/CUDA) has a table listing all of the architectures compatible with certain CUDA versions. Using the GPU from the previous step, find what architecture it was built with, and see what version of CUDA is supported in the table. Make note of this version number."
   ]
  },
  {
   "attachments": {},
   "cell_type": "markdown",
   "metadata": {},
   "source": [
    "## Step 3: See if you have the relevant drivers already\n",
    "\n",
    "In any CLI, use this shell script:\n",
    "(note that the jupyter notebook may not work)"
   ]
  },
  {
   "cell_type": "code",
   "execution_count": null,
   "metadata": {
    "vscode": {
     "languageId": "shellscript"
    }
   },
   "outputs": [],
   "source": [
    "nvcc --version"
   ]
  },
  {
   "attachments": {},
   "cell_type": "markdown",
   "metadata": {},
   "source": [
    "If this errors, you will need to install the most relevant GPU drivers. Word of note: you may not have access on your machine to update the drivers, so I recommend using an [Anaconda Environment](https://www.anaconda.com/products/distribution#Downloads). When prompted, add Anaconda to path! This will make your life easier when using conda commands in VSCode. Alternatively, have your own environment manager for the next steps."
   ]
  },
  {
   "attachments": {},
   "cell_type": "markdown",
   "metadata": {},
   "source": [
    "## Step 4: Installing Pytorch\n",
    "\n",
    "Using your environment manager (I am assuming Anaconda), install PyTorch will the most relevant command from the [PyTorch website](https://pytorch.org/). This will take a while, make sure to check the correct CUDA version. Previous versions with CUDA are also available. After installation run the below in a CLI to check if you have access to CUDA. The most relevent information is the line \"Is CUDA available\""
   ]
  },
  {
   "cell_type": "code",
   "execution_count": null,
   "metadata": {
    "vscode": {
     "languageId": "shellscript"
    }
   },
   "outputs": [],
   "source": [
    "python -m torch.utils.collect_env"
   ]
  },
  {
   "attachments": {},
   "cell_type": "markdown",
   "metadata": {},
   "source": [
    "One last check that your notebook works. Make sure to switch the python interpreter for your notebook to the Anaconda Python interpreter. You can have multiple environments in Anaconda, so make sure you selected the correct one!"
   ]
  },
  {
   "cell_type": "code",
   "execution_count": 2,
   "metadata": {
    "vscode": {
     "languageId": "shellscript"
    }
   },
   "outputs": [
    {
     "name": "stdout",
     "output_type": "stream",
     "text": [
      "True\n"
     ]
    }
   ],
   "source": [
    "import torch\n",
    "print(torch.cuda.is_available())"
   ]
  },
  {
   "attachments": {},
   "cell_type": "markdown",
   "metadata": {},
   "source": [
    "That's it! You have PyTorch with CUDA in your environment. Make sure to keep your drivers, PyTorch, and Anaconda updated for the best performance."
   ]
  },
  {
   "attachments": {},
   "cell_type": "markdown",
   "metadata": {},
   "source": [
    "## Debugging\n",
    "\n",
    "Assuming that you ran into problems along the way:\n",
    "\n",
    "1. Make sure that you install Anaconda and not Miniconda for your system. PyTorch has some prerequisites to satisfy before it can install.\n",
    "2. If you already have a PyTorch installation in your environment, make sure to uninstall it and then reinstall\n",
    "3. Make sure that your notebook is using the correct interpreter and CLI. If you didn't add conda to path, you will run into problems within VSCode."
   ]
  }
 ],
 "metadata": {
  "kernelspec": {
   "display_name": "base",
   "language": "python",
   "name": "python3"
  },
  "language_info": {
   "codemirror_mode": {
    "name": "ipython",
    "version": 3
   },
   "file_extension": ".py",
   "mimetype": "text/x-python",
   "name": "python",
   "nbconvert_exporter": "python",
   "pygments_lexer": "ipython3",
   "version": "3.8.5"
  },
  "orig_nbformat": 4,
  "vscode": {
   "interpreter": {
    "hash": "68151ca508185107c83a777cfdb64cff2e4248dc05dc60c8c8aed0d7842c446e"
   }
  }
 },
 "nbformat": 4,
 "nbformat_minor": 2
}
